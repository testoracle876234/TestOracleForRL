{
 "cells": [
  {
   "cell_type": "markdown",
   "metadata": {},
   "source": [
    "### Step1: Choose the bug you want to inject into the bug library\n",
    "You can find bug details in bug_lib.py or you can refer to appendix in the paper. Specially, if bug_no = -1, it means that we don't inject any bug into the stable-baselines3 library."
   ]
  },
  {
   "cell_type": "code",
   "execution_count": 1,
   "metadata": {},
   "outputs": [],
   "source": [
    "bug_no = -1\n",
    "algorithm = 'ppo'\n",
    "n = 2\n",
    "m = 2\n",
    "I = 1\n",
    "J = 800"
   ]
  },
  {
   "cell_type": "markdown",
   "metadata": {},
   "source": [
    "### Step 2: Inject bug into Stable-baselines3 library\n",
    "**Important**: Restart the kernal after injecting bug to make sure the running stable-baselines3 is injected successfully. After kernal restarts, you don't have to run this block again."
   ]
  },
  {
   "cell_type": "code",
   "execution_count": 7,
   "metadata": {},
   "outputs": [],
   "source": [
    "import bug_lib\n",
    "if bug_no == -1:\n",
    "    bug_lib.cover_then_inject_bugs([])\n",
    "else:\n",
    "    bug_lib.cover_then_inject_bugs([bug_no])"
   ]
  },
  {
   "cell_type": "markdown",
   "metadata": {},
   "source": [
    "### Step 3: Import relevant libraries and buggy SB3\n",
    "**Important:** Run the first code block to redefine bug_no and algorithm ."
   ]
  },
  {
   "cell_type": "code",
   "execution_count": 2,
   "metadata": {},
   "outputs": [
    {
     "name": "stdout",
     "output_type": "stream",
     "text": [
      "WARNING:tensorflow:From c:\\Users\\19251\\anaconda3\\envs\\Reinforcement\\lib\\site-packages\\keras\\src\\losses.py:2976: The name tf.losses.sparse_softmax_cross_entropy is deprecated. Please use tf.compat.v1.losses.sparse_softmax_cross_entropy instead.\n",
      "\n"
     ]
    }
   ],
   "source": [
    "import Util\n",
    "import LPEA_Env\n",
    "import numpy as np\n",
    "from gymnasium.wrappers import TimeLimit \n",
    "import stable_baselines3 as sb3\n",
    "import Lyaponov_oracle_util as LO\n",
    "import os"
   ]
  },
  {
   "cell_type": "markdown",
   "metadata": {},
   "source": [
    "### Step 4: Generate state transition matrices. \n",
    "In our experiment, we set I = 20, n = 2, m = 2. This implies that we randomly generate 20 pairs of 2 by 2 matrices A and B. These 20 pairs of A and B will be used to create 20 environments. See **Section II-B Lyapunov Stability Control Theory** for more information. However in demo, please use a small I such as 1 to shorten the running time."
   ]
  },
  {
   "cell_type": "code",
   "execution_count": 3,
   "metadata": {},
   "outputs": [],
   "source": [
    "file_path = f'./saved_array/{n}by{n}'.format(n=n, m=m)\n",
    "if not os.path.exists(file_path):\n",
    "    os.makedirs(file_path)\n",
    "\n",
    "for i in range(I):\n",
    "    A, B = Util.generate_state_transition_matix(n, m)\n",
    "    np.save(f'./saved_array/{n}by{n}/array_A_{i}.npy'.format(n=n, m=m), A)\n",
    "    np.save(f'./saved_array/{n}by{m}/array_B_{i}.npy'.format(n=n, m=m), B)"
   ]
  },
  {
   "cell_type": "markdown",
   "metadata": {},
   "source": [
    "### Step 5: Train **I** agents and save all the trained agents into a file for further useage  \n",
    "This step may take some time. It depends on your device and algorithm you choose. Normally, This step may take some time, depending on your device and the algorithm you choose. Typically, PPO and A2C will take about 20 minutes to train, while TD3 will take approximately 2 hours if I = 20."
   ]
  },
  {
   "cell_type": "code",
   "execution_count": 4,
   "metadata": {},
   "outputs": [],
   "source": [
    "file_path_log = './trained_models/oracle_{alg}/bug_{bug}/{n}by{m}/'.format(n=n, m=m, bug = bug_no, alg=algorithm)\n",
    "random_seed = 1\n",
    "\n",
    "for i in range(I):\n",
    "    file_path_A = 'saved_array/{n}by{m}/array_A_{i}.npy'.format(n=n, m=m, i=i)\n",
    "    file_path_B = 'saved_array/{n}by{m}/array_B_{i}.npy'.format(n=n, m=m, i=i)\n",
    "    loaded_A = np.load(file_path_A)\n",
    "    loaded_B = np.load(file_path_B)\n",
    "    env = TimeLimit(LPEA_Env.CustomEnv(loaded_A, loaded_B, n, m), max_episode_steps=50)\n",
    "    if algorithm == 'ppo':\n",
    "        model = sb3.PPO(\"MlpPolicy\", env, verbose=0, seed=random_seed, learning_rate=0.0012)\n",
    "        model.learn(total_timesteps=120000)\n",
    "    elif algorithm == 'a2c':\n",
    "        model = sb3.A2C(\"MlpPolicy\", env, verbose=0, seed=random_seed, learning_rate=0.0004)\n",
    "        model.learn(total_timesteps=90000)\n",
    "    elif algorithm == 'td3':\n",
    "        model = sb3.TD3(\"MlpPolicy\", env, verbose=0, seed=random_seed, )\n",
    "        model.learn(total_timesteps=90000)\n",
    "    model.save('./trained_models/oracle_{alg}/bug_{bug}/{n}by{m}/{i}_model'.format(n=n, m=m, i=i, bug=bug_no, alg=algorithm))"
   ]
  },
  {
   "cell_type": "markdown",
   "metadata": {},
   "source": [
    "### Step 6: Evaluation the trained agents."
   ]
  },
  {
   "cell_type": "markdown",
   "metadata": {},
   "source": [
    "Define vartheta and theta. Check Section III Step 3 of the paper for more information."
   ]
  },
  {
   "cell_type": "code",
   "execution_count": 4,
   "metadata": {},
   "outputs": [
    {
     "name": "stderr",
     "output_type": "stream",
     "text": [
      "c:\\Users\\19251\\anaconda3\\envs\\Reinforcement\\lib\\site-packages\\gymnasium\\core.py:311: UserWarning: \u001b[33mWARN: env.A to get variables from other wrappers is deprecated and will be removed in v1.0, to get this variable you can do `env.unwrapped.A` for environment variables or `env.get_wrapper_attr('A')` that will search the reminding wrappers.\u001b[0m\n",
      "  logger.warn(\n",
      "c:\\Users\\19251\\anaconda3\\envs\\Reinforcement\\lib\\site-packages\\gymnasium\\core.py:311: UserWarning: \u001b[33mWARN: env.B to get variables from other wrappers is deprecated and will be removed in v1.0, to get this variable you can do `env.unwrapped.B` for environment variables or `env.get_wrapper_attr('B')` that will search the reminding wrappers.\u001b[0m\n",
      "  logger.warn(\n",
      "c:\\Users\\19251\\anaconda3\\envs\\Reinforcement\\lib\\site-packages\\gymnasium\\core.py:311: UserWarning: \u001b[33mWARN: env.P to get variables from other wrappers is deprecated and will be removed in v1.0, to get this variable you can do `env.unwrapped.P` for environment variables or `env.get_wrapper_attr('P')` that will search the reminding wrappers.\u001b[0m\n",
      "  logger.warn(\n",
      "E:\\University\\research\\Sumitted\\RL-Oracle-Lyapunov-v1\\stable_baselines3\\common\\save_util.py:167: UserWarning: Could not deserialize object clip_range. Consider using `custom_objects` argument to replace this object.\n",
      "Exception: code expected at most 16 arguments, got 18\n",
      "  warnings.warn(\n",
      "E:\\University\\research\\Sumitted\\RL-Oracle-Lyapunov-v1\\stable_baselines3\\common\\save_util.py:167: UserWarning: Could not deserialize object lr_schedule. Consider using `custom_objects` argument to replace this object.\n",
      "Exception: code expected at most 16 arguments, got 18\n",
      "  warnings.warn(\n"
     ]
    }
   ],
   "source": [
    "buggy_metrics = LO.buggy_trained_model_metrics_calculation(algorithm, n, m, I, J, bug_no)"
   ]
  },
  {
   "cell_type": "code",
   "execution_count": 5,
   "metadata": {},
   "outputs": [
    {
     "name": "stdout",
     "output_type": "stream",
     "text": [
      "vartheta=100%, theta=100%, the software is buggy based on LPEA Oracle\n",
      "vartheta=100%, theta=75%, the software is buggy based on LPEA Oracle\n",
      "vartheta=100%, theta=50%, the software is bug-less based on LPEA Oracle\n",
      "vartheta=90%, theta=100%, the software is buggy based on LPEA Oracle\n",
      "vartheta=90%, theta=75%, the software is bug-less based on LPEA Oracle\n",
      "vartheta=90%, theta=50%, the software is bug-less based on LPEA Oracle\n",
      "vartheta=80%, theta=100%, the software is buggy based on LPEA Oracle\n",
      "vartheta=80%, theta=75%, the software is bug-less based on LPEA Oracle\n",
      "vartheta=80%, theta=50%, the software is bug-less based on LPEA Oracle\n",
      "vartheta=70%, theta=100%, the software is buggy based on LPEA Oracle\n",
      "vartheta=70%, theta=75%, the software is bug-less based on LPEA Oracle\n",
      "vartheta=70%, theta=50%, the software is bug-less based on LPEA Oracle\n",
      "vartheta=60%, theta=100%, the software is buggy based on LPEA Oracle\n",
      "vartheta=60%, theta=75%, the software is bug-less based on LPEA Oracle\n",
      "vartheta=60%, theta=50%, the software is bug-less based on LPEA Oracle\n",
      "vartheta=50%, theta=100%, the software is buggy based on LPEA Oracle\n",
      "vartheta=50%, theta=75%, the software is bug-less based on LPEA Oracle\n",
      "vartheta=50%, theta=50%, the software is bug-less based on LPEA Oracle\n"
     ]
    }
   ],
   "source": [
    "for vartheta in range(100, 40, -10):\n",
    "    for theta in range(100, 45, -25):\n",
    "        Oracle_result = LO.LPEA_Oracle(buggy_metrics, I, J, vartheta * 0.01, theta * 0.01)\n",
    "        if Oracle_result:\n",
    "            print(\"vartheta={vartheta}%, theta={theta}%, the software is bug-less based on LPEA Oracle\".format(vartheta=vartheta, theta=theta))\n",
    "        else:\n",
    "            print(\"vartheta={vartheta}%, theta={theta}%, the software is buggy based on LPEA Oracle\".format(vartheta=vartheta, theta=theta))"
   ]
  },
  {
   "cell_type": "code",
   "execution_count": null,
   "metadata": {},
   "outputs": [],
   "source": [
    "buggy_metrics"
   ]
  },
  {
   "cell_type": "markdown",
   "metadata": {},
   "source": []
  }
 ],
 "metadata": {
  "kernelspec": {
   "display_name": "SB_Testing_new",
   "language": "python",
   "name": "python3"
  },
  "language_info": {
   "codemirror_mode": {
    "name": "ipython",
    "version": 3
   },
   "file_extension": ".py",
   "mimetype": "text/x-python",
   "name": "python",
   "nbconvert_exporter": "python",
   "pygments_lexer": "ipython3",
   "version": "3.10.13"
  }
 },
 "nbformat": 4,
 "nbformat_minor": 2
}
